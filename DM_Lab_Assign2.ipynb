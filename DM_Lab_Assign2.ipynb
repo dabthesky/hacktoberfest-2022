{
  "nbformat": 4,
  "nbformat_minor": 0,
  "metadata": {
    "colab": {
      "provenance": []
    },
    "kernelspec": {
      "name": "python3",
      "display_name": "Python 3"
    },
    "language_info": {
      "name": "python"
    }
  },
  "cells": [
    {
      "cell_type": "code",
      "execution_count": 13,
      "metadata": {
        "colab": {
          "base_uri": "https://localhost:8080/"
        },
        "id": "d9VTTxSNwRUj",
        "outputId": "9aa4bf0a-f4c7-48e6-99a9-d65af36dbf99"
      },
      "outputs": [
        {
          "output_type": "execute_result",
          "data": {
            "text/plain": [
              "0.6493506493506493"
            ]
          },
          "metadata": {},
          "execution_count": 13
        }
      ],
      "source": [
        "import numpy as np\n",
        "import pandas as pd\n",
        "import matplotlib.pyplot as plt\n",
        "\n",
        "diabetes=pd.read_csv('/content/Diabetes_RF.csv')\n",
        "diabetes.columns\n",
        "col_names=list(diabetes.columns)\n",
        "predictors=col_names[0:8]\n",
        "target=col_names[8]\n",
        "\n",
        "from sklearn.model_selection import train_test_split\n",
        "train,test=train_test_split(diabetes,test_size=0.3,random_state=0)\n",
        "\n",
        "########## Naive Bayes##############\n",
        "\n",
        "#Gausian Naive Bayes\n",
        "\n",
        "from sklearn.naive_bayes import GaussianNB\n",
        "Gmodel=GaussianNB()\n",
        "train_pred_gau=Gmodel.fit(train[predictors],train[target]).predict(train[predictors])\n",
        "test_pred_gau=Gmodel.fit(train[predictors],train[target]).predict(test[predictors])\n",
        "\n",
        "train_acc_gau=np.mean(train_pred_gau==train[target])\n",
        "test_acc_gau=np.mean(test_pred_gau==test[target])\n",
        "train_acc_gau#0.767\n",
        "test_acc_gau#0.761\n",
        "\n",
        "\n",
        "#Multinomial Naive Bayes\n",
        "\n",
        "from sklearn.naive_bayes import MultinomialNB\n",
        "Mmodel=MultinomialNB()\n",
        "train_pred_multi=Mmodel.fit(train[predictors],train[target]).predict(train[predictors])\n",
        "test_pred_multi=Mmodel.fit(train[predictors],train[target]).predict(test[predictors])\n",
        "\n",
        "train_acc_multi=np.mean(train_pred_multi==train[target])\n",
        "test_acc_multi=np.mean(test_pred_multi==test[target])\n",
        "train_acc_multi#0.588\n",
        "test_acc_multi#0.649"
      ]
    },
    {
      "cell_type": "code",
      "source": [
        "import numpy as np\n",
        "import pandas as pd\n",
        "import matplotlib.pyplot as plt\n",
        "\n",
        "iris=pd.read_csv('/content/iris.csv')\n",
        "iris.columns=['sepal_length','sepal_width','petal_length','petal_width','species']\n",
        "\n",
        "col_names=list(iris.columns)\n",
        "predictors=col_names[0:4]\n",
        "target=col_names[4]\n",
        "\n",
        "from sklearn.model_selection import train_test_split\n",
        "train,test=train_test_split(iris,test_size=0.3,random_state=0)\n",
        "\n",
        "############# Naive Bayes ############\n",
        "\n",
        "# Guassian Naive Bayes\n",
        "\n",
        "from sklearn.naive_bayes import GaussianNB\n",
        "Gmodel=GaussianNB()\n",
        "Gmodel.fit(train[predictors],train[target])\n",
        "train_Gpred=Gmodel.predict(train[predictors])\n",
        "test_Gpred=Gmodel.predict(test[predictors])\n",
        "\n",
        "train_acc_gau=np.mean(train_Gpred==train[target])\n",
        "test_acc_gau=np.mean(test_Gpred==test[target])\n",
        "train_acc_gau#0.942\n",
        "test_acc_gau#1.0\n",
        "\n",
        "\n",
        "#Multinomial Naive Bayes\n",
        "\n",
        "from sklearn.naive_bayes import MultinomialNB\n",
        "Mmodel=MultinomialNB()\n",
        "Mmodel.fit(train[predictors],train[target])\n",
        "train_Mpred=Mmodel.predict(train[predictors])\n",
        "test_Mpred=Mmodel.predict(test[predictors])\n",
        "\n",
        "train_acc_multi=np.mean(train_Mpred==train[target])\n",
        "test_acc_multi=np.mean(test_Mpred==test[target])\n",
        "train_acc_multi#0.704\n",
        "test_acc_multi#0.6"
      ],
      "metadata": {
        "colab": {
          "base_uri": "https://localhost:8080/"
        },
        "id": "YPHPejwG14lQ",
        "outputId": "bc891307-21bc-4f62-cd1c-5fe566fa25a6"
      },
      "execution_count": 14,
      "outputs": [
        {
          "output_type": "execute_result",
          "data": {
            "text/plain": [
              "0.6"
            ]
          },
          "metadata": {},
          "execution_count": 14
        }
      ]
    },
    {
      "cell_type": "code",
      "source": [
        "import numpy as np\n",
        "import pandas as pd\n",
        "import matplotlib.pyplot as plt\n",
        "\n",
        "salary_train=pd.read_csv('/content/SalaryData_Train.csv')\n",
        "salary_test=pd.read_csv('/content/SalaryData_Test.csv')\n",
        "salary_train.columns\n",
        "salary_test.columns\n",
        "string_columns=['workclass','education','maritalstatus','occupation','relationship','race','sex','native']\n",
        "\n",
        "from sklearn import preprocessing\n",
        "label_encoder=preprocessing.LabelEncoder()\n",
        "for i in string_columns:\n",
        "    salary_train[i]=label_encoder.fit_transform(salary_train[i])\n",
        "    salary_test[i]=label_encoder.fit_transform(salary_test[i])\n",
        "\n",
        "col_names=list(salary_train.columns)\n",
        "train_X=salary_train[col_names[0:13]]\n",
        "train_Y=salary_train[col_names[13]]\n",
        "test_x=salary_test[col_names[0:13]]\n",
        "test_y=salary_test[col_names[13]]\n",
        "\n",
        "######### Naive Bayes ##############\n",
        "\n",
        "#Gaussian Naive Bayes\n",
        "\n",
        "from sklearn.naive_bayes import GaussianNB\n",
        "Gmodel=GaussianNB()\n",
        "train_pred_gau=Gmodel.fit(train_X,train_Y).predict(train_X)\n",
        "test_pred_gau=Gmodel.fit(train_X,train_Y).predict(test_x)\n",
        "\n",
        "train_acc_gau=np.mean(train_pred_gau==train_Y)\n",
        "test_acc_gau=np.mean(test_pred_gau==test_y)\n",
        "train_acc_gau#0.795\n",
        "test_acc_gau#0.794\n",
        "\n",
        "#Multinomial Naive Bayes\n",
        "\n",
        "from sklearn.naive_bayes import MultinomialNB\n",
        "Mmodel=MultinomialNB()\n",
        "train_pred_multi=Mmodel.fit(train_X,train_Y).predict(train_X)\n",
        "test_pred_multi=Mmodel.fit(train_X,train_Y).predict(test_x)\n",
        "\n",
        "train_acc_multi=np.mean(train_pred_multi==train_Y)\n",
        "test_acc_multi=np.mean(test_pred_multi==test_y)\n",
        "train_acc_multi#0.772\n",
        "test_acc_multi#0.774\n"
      ],
      "metadata": {
        "colab": {
          "base_uri": "https://localhost:8080/"
        },
        "id": "RKsFLTP12ITf",
        "outputId": "a5e0247f-f9e8-49a0-82f7-5e33a6a6e549"
      },
      "execution_count": 15,
      "outputs": [
        {
          "output_type": "execute_result",
          "data": {
            "text/plain": [
              "0.7749667994687915"
            ]
          },
          "metadata": {},
          "execution_count": 15
        }
      ]
    }
  ]
}